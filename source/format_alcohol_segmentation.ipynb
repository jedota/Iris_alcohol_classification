{
 "cells": [
  {
   "cell_type": "code",
   "execution_count": 1,
   "metadata": {},
   "outputs": [],
   "source": [
    "import imutils.paths\n",
    "import json\n",
    "import os\n",
    "import numpy as np\n",
    "import matplotlib.pyplot as plt\n",
    "from skimage.draw import polygon, ellipse, circle\n",
    "import shutil\n",
    "from tqdm import tqdm\n",
    "\n",
    "np.random.seed(42)\n",
    "\n",
    "# train/val/test -> 70/20/10\n",
    "# train -> images and its regions in json format\n",
    "directory = '/home/choppy/TOC/datasets/alcohol/alcohol_marks/alcohol_full' # path to alcohol folder"
   ]
  },
  {
   "cell_type": "markdown",
   "metadata": {},
   "source": [
    "## Read all valid marks inside .json files"
   ]
  },
  {
   "cell_type": "code",
   "execution_count": 2,
   "metadata": {},
   "outputs": [
    {
     "name": "stderr",
     "output_type": "stream",
     "text": [
      "100%|██████████| 444/444 [00:00<00:00, 1066.09it/s]\n"
     ]
    }
   ],
   "source": [
    "total_images = 0\n",
    "\n",
    "json_file_list = sorted([*imutils.paths.list_files(directory, contains='via_region_data')])\n",
    "\n",
    "for json_file in tqdm(json_file_list):\n",
    "    js = json.load(open(json_file, 'rb'))\n",
    "    path = json_file.split('via_region_data.json')[0]\n",
    "    images_list = list(map(lambda x: os.path.join(path, x['filename']), list(js.values())))\n",
    "    total_images += len(images_list)"
   ]
  },
  {
   "cell_type": "code",
   "execution_count": 3,
   "metadata": {},
   "outputs": [
    {
     "data": {
      "text/plain": [
       "'021455'"
      ]
     },
     "execution_count": 3,
     "metadata": {},
     "output_type": "execute_result"
    }
   ],
   "source": [
    "str(total_images).zfill(6)"
   ]
  },
  {
   "cell_type": "code",
   "execution_count": 4,
   "metadata": {},
   "outputs": [
    {
     "name": "stderr",
     "output_type": "stream",
     "text": [
      "100%|██████████| 444/444 [00:00<00:00, 663.17it/s]\n"
     ]
    }
   ],
   "source": [
    "json_file_list = sorted([*imutils.paths.list_files(directory, contains='via_region_data')])\n",
    "all_images_list = []\n",
    "all_regions = []\n",
    "newname_images = []\n",
    "\n",
    "for json_file in tqdm(json_file_list):\n",
    "    js = json.load(open(json_file, 'rb'))\n",
    "    path = json_file.split('via_region_data.json')[0]\n",
    "    images_list = list(map(lambda x: os.path.join(path, x['filename']), list(js.values())))\n",
    "    # all_images_list += images_list   \n",
    "\n",
    "    for json_key, imdir in zip(js.keys(), images_list):\n",
    "        regions = js[json_key]['regions']\n",
    "        if regions:\n",
    "            for reg in regions:\n",
    "                # fuse sclera marks\n",
    "                if 'sclera' in reg['region_attributes']['Eye']:\n",
    "                    reg['region_attributes']['Eye'] = 'sclera'\n",
    "            all_regions.append(regions)\n",
    "            all_images_list.append(imdir)"
   ]
  },
  {
   "cell_type": "code",
   "execution_count": 5,
   "metadata": {},
   "outputs": [],
   "source": [
    "for i in range(len(all_images_list)):\n",
    "    imdir = all_images_list[i]\n",
    "    sensor = imdir.split('/')[-4]\n",
    "    if sensor.lower() not in ['iritech', 'lg', 'gemini']:\n",
    "        sensor = imdir.split('/')[-3]\n",
    "    imname = os.path.basename(imdir)\n",
    "    imname = f'{i}'.zfill(7) + '_' + sensor + '_' + imname\n",
    "    newname_images.append(imname)"
   ]
  },
  {
   "cell_type": "code",
   "execution_count": 6,
   "metadata": {},
   "outputs": [
    {
     "data": {
      "text/plain": [
       "('0001000_Iritech_E_0_1_0_R_M_N_N_1982_75_2017.bmp',\n",
       " '0021308_gemini_1_15499172424147453_002632_99.png')"
      ]
     },
     "execution_count": 6,
     "metadata": {},
     "output_type": "execute_result"
    }
   ],
   "source": [
    "newname_images[1000], newname_images[-1]"
   ]
  },
  {
   "cell_type": "code",
   "execution_count": 7,
   "metadata": {},
   "outputs": [
    {
     "data": {
      "text/plain": [
       "(21309, 21309, 21309)"
      ]
     },
     "execution_count": 7,
     "metadata": {},
     "output_type": "execute_result"
    }
   ],
   "source": [
    "len(all_regions), len(newname_images), len(all_images_list)"
   ]
  },
  {
   "cell_type": "code",
   "execution_count": 8,
   "metadata": {},
   "outputs": [],
   "source": [
    "regions_dict = {}\n",
    "\n",
    "for i in range(len(newname_images)):\n",
    "    key = newname_images[i]\n",
    "    regions_dict[key] = all_regions[i]"
   ]
  },
  {
   "cell_type": "code",
   "execution_count": 9,
   "metadata": {},
   "outputs": [
    {
     "name": "stderr",
     "output_type": "stream",
     "text": [
      "100%|██████████| 21309/21309 [02:42<00:00, 131.46it/s]\n"
     ]
    }
   ],
   "source": [
    "os.makedirs('alcohol/all_images', exist_ok=True)\n",
    "json.dump(regions_dict, open('alcohol/all_images/regions.json', 'w'), indent=4)\n",
    "\n",
    "for i in tqdm(range(len(all_images_list))):\n",
    "    shutil.copyfile(all_images_list[i], 'alcohol/all_images/'+newname_images[i])"
   ]
  },
  {
   "cell_type": "code",
   "execution_count": 10,
   "metadata": {},
   "outputs": [
    {
     "name": "stdout",
     "output_type": "stream",
     "text": [
      "21309 images\n",
      "21309 regions\n"
     ]
    }
   ],
   "source": [
    "images_list = sorted([*imutils.paths.list_images('alcohol/all_images/')])\n",
    "js = json.load(open('alcohol/all_images/regions.json'))\n",
    "\n",
    "print(len(images_list), 'images')\n",
    "print(len(js), 'regions')"
   ]
  },
  {
   "cell_type": "markdown",
   "metadata": {},
   "source": [
    "# Images and labels must have the same size"
   ]
  },
  {
   "cell_type": "code",
   "execution_count": 11,
   "metadata": {},
   "outputs": [],
   "source": [
    "assert len(images_list) == len(js)"
   ]
  },
  {
   "cell_type": "markdown",
   "metadata": {},
   "source": [
    "# train / test / validation split"
   ]
  },
  {
   "cell_type": "code",
   "execution_count": 12,
   "metadata": {},
   "outputs": [
    {
     "data": {
      "text/plain": [
       "array([0, 1, 2, 3, 4, 5, 6, 7, 8, 9])"
      ]
     },
     "execution_count": 12,
     "metadata": {},
     "output_type": "execute_result"
    }
   ],
   "source": [
    "indexes = np.arange(len(images_list))\n",
    "indexes[:10]"
   ]
  },
  {
   "cell_type": "code",
   "execution_count": 13,
   "metadata": {},
   "outputs": [
    {
     "data": {
      "text/plain": [
       "array([10890, 13073,  9931, 14720, 19994, 13792, 10613,  1087,  8591,\n",
       "        3485])"
      ]
     },
     "execution_count": 13,
     "metadata": {},
     "output_type": "execute_result"
    }
   ],
   "source": [
    "np.random.shuffle(indexes)\n",
    "indexes[:10]"
   ]
  },
  {
   "cell_type": "code",
   "execution_count": 14,
   "metadata": {},
   "outputs": [
    {
     "data": {
      "text/plain": [
       "14916"
      ]
     },
     "execution_count": 14,
     "metadata": {},
     "output_type": "execute_result"
    }
   ],
   "source": [
    "# train / 70\n",
    "# val / 20\n",
    "# test / 10\n",
    "\n",
    "train_len = int(np.floor(len(indexes)*.7))\n",
    "train_len"
   ]
  },
  {
   "cell_type": "code",
   "execution_count": 15,
   "metadata": {},
   "outputs": [
    {
     "data": {
      "text/plain": [
       "19177"
      ]
     },
     "execution_count": 15,
     "metadata": {},
     "output_type": "execute_result"
    }
   ],
   "source": [
    "val_len = int(np.floor(len(indexes)*.2) + train_len)\n",
    "val_len"
   ]
  },
  {
   "cell_type": "code",
   "execution_count": 16,
   "metadata": {},
   "outputs": [
    {
     "data": {
      "text/plain": [
       "21307"
      ]
     },
     "execution_count": 16,
     "metadata": {},
     "output_type": "execute_result"
    }
   ],
   "source": [
    "test_len = int(np.floor(len(indexes)*.1) + val_len)\n",
    "test_len"
   ]
  },
  {
   "cell_type": "code",
   "execution_count": 17,
   "metadata": {},
   "outputs": [
    {
     "name": "stdout",
     "output_type": "stream",
     "text": [
      "14916 2132 4261\n",
      "21309\n"
     ]
    }
   ],
   "source": [
    "train_split_indexes = indexes[:train_len]\n",
    "val_split_indexes = indexes[train_len:val_len]\n",
    "# val_split_indexes = indexes[test_len:val_len]\n",
    "test_split_indexes = indexes[val_len:]\n",
    "\n",
    "print(train_split_indexes.size, test_split_indexes.size, val_split_indexes.size)\n",
    "print(sum([train_split_indexes.size, test_split_indexes.size, val_split_indexes.size]))"
   ]
  },
  {
   "cell_type": "code",
   "execution_count": 18,
   "metadata": {},
   "outputs": [],
   "source": [
    "os.makedirs('alcohol/train', exist_ok=True)\n",
    "\n",
    "os.makedirs('alcohol/test', exist_ok=True)\n",
    "\n",
    "os.makedirs('alcohol/val', exist_ok=True)"
   ]
  },
  {
   "cell_type": "code",
   "execution_count": 19,
   "metadata": {},
   "outputs": [],
   "source": [
    "train_regions = {}\n",
    "test_regions = {}\n",
    "val_regions = {}"
   ]
  },
  {
   "cell_type": "code",
   "execution_count": 20,
   "metadata": {},
   "outputs": [
    {
     "name": "stderr",
     "output_type": "stream",
     "text": [
      "train_split: 100%|██████████| 14916/14916 [06:18<00:00, 39.44it/s] \n"
     ]
    }
   ],
   "source": [
    "for idx in tqdm(train_split_indexes, desc='train_split'):\n",
    "    shutil.copyfile(images_list[idx], 'alcohol/train/'+os.path.basename(images_list[idx]))\n",
    "    train_regions[os.path.basename(images_list[idx])] = js[os.path.basename(images_list[idx])]\n",
    "json.dump(train_regions, open('alcohol/train/regions.json', 'w'), indent=4)"
   ]
  },
  {
   "cell_type": "code",
   "execution_count": 21,
   "metadata": {},
   "outputs": [
    {
     "name": "stderr",
     "output_type": "stream",
     "text": [
      "test_split: 100%|██████████| 2132/2132 [00:55<00:00, 38.71it/s]\n"
     ]
    }
   ],
   "source": [
    "for idx in tqdm(test_split_indexes, desc='test_split'):\n",
    "    shutil.copyfile(images_list[idx], 'alcohol/test/'+os.path.basename(images_list[idx]))\n",
    "    test_regions[os.path.basename(images_list[idx])] = js[os.path.basename(images_list[idx])]\n",
    "json.dump(test_regions, open('alcohol/test/regions.json', 'w'), indent=4)"
   ]
  },
  {
   "cell_type": "code",
   "execution_count": 22,
   "metadata": {},
   "outputs": [
    {
     "name": "stderr",
     "output_type": "stream",
     "text": [
      "val_split: 100%|██████████| 4261/4261 [01:52<00:00, 37.81it/s]  \n"
     ]
    }
   ],
   "source": [
    "for idx in tqdm(val_split_indexes, desc='val_split'):\n",
    "    shutil.copyfile(images_list[idx], 'alcohol/val/'+os.path.basename(images_list[idx]))\n",
    "    val_regions[os.path.basename(images_list[idx])] = js[os.path.basename(images_list[idx])]\n",
    "json.dump(val_regions, open('alcohol/val/regions.json', 'w'), indent=4)"
   ]
  },
  {
   "cell_type": "code",
   "execution_count": null,
   "metadata": {},
   "outputs": [],
   "source": []
  }
 ],
 "metadata": {
  "kernelspec": {
   "display_name": "Python 3.7.7 ('alcohol')",
   "language": "python",
   "name": "python3"
  },
  "language_info": {
   "codemirror_mode": {
    "name": "ipython",
    "version": 3
   },
   "file_extension": ".py",
   "mimetype": "text/x-python",
   "name": "python",
   "nbconvert_exporter": "python",
   "pygments_lexer": "ipython3",
   "version": "3.7.7"
  },
  "vscode": {
   "interpreter": {
    "hash": "7815e303ef7cdb54ea122296823e35e66c3c173643fc64678aca04c4d382ba15"
   }
  }
 },
 "nbformat": 4,
 "nbformat_minor": 4
}
